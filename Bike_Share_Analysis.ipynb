{
 "cells": [
  {
   "cell_type": "markdown",
   "metadata": {},
   "source": [
    "# 2016 US Bike Share Activity Snapshot\n",
    "\n",
    "## Table of Contents\n",
    "- [Introduction](#intro)\n",
    "- [Posing Questions](#pose_questions)\n",
    "- [Data Collection and Wrangling](#wrangling)\n",
    "  - [Condensing the Trip Data](#condensing)\n",
    "- [Exploratory Data Analysis](#eda)\n",
    "  - [Statistics](#statistics)\n",
    "  - [Visualizations](#visualizations)\n",
    "- [Performing more Analysis](#eda_continued)\n",
    "\n",
    "\n",
    "<a id='intro'></a>\n",
    "## Introduction\n",
    "\n",
    "\n",
    "\n",
    "Over the past decade, bicycle-sharing systems have been growing in number and popularity in cities across the world. Bicycle-sharing systems allow users to rent bicycles for short trips, typically 30 minutes or less. Thanks to the rise in information technologies, it is easy for a user of the system to access a dock within the system to unlock or return bicycles. These technologies also provide a wealth of data that can be used to explore how these bike-sharing systems are used.\n",
    "\n",
    "In this project, we will perform an exploratory analysis on data provided by [Motivate](https://www.motivateco.com/), a bike-share system provider for many major cities in the United States. We will compare the system usage between three large cities: New York City, Chicago, and Washington, DC. We will also see if there are any differences within each system for those users that are registered, regular users and those users that are short-term, casual users."
   ]
  },
  {
   "cell_type": "markdown",
   "metadata": {},
   "source": [
    "<a id='pose_questions'></a>\n",
    "## Posing Questions\n",
    "\n",
    "Before looking at the bike sharing data, we should start by asking questions we might want to understand about the bike share data. Consider, for example, if we were working for Motivate. What kinds of information would we want to know about in order to make smarter business decisions? If we were a user of the bike-share service, what factors might influence how we would want to use the service?\n",
    "\n",
    "Here are questions related to bike sharing that I think could be answered by data.\n",
    "\n",
    " \n",
    "            1. Which city has the highest number of trips? \n",
    "            2. Which city has the highest proportion of trips made by subscribers? \n",
    "            3. Which city has the highest proportion of trips made by short-term customers?\n",
    "            4. What is the average trip length for each city? \n",
    "            5. What proportion of rides made in each city are longer than 30 minutes? \n",
    "            5. Which type of user takes longer rides on average: Subscribers or Customers in a perticular city?\n",
    "            6. During what time of day is the system used the most?\n",
    "            7. Is there a difference in usage patterns for Subscribers and Customers?\n"
   ]
  },
  {
   "cell_type": "markdown",
   "metadata": {},
   "source": [
    "<a id='wrangling'></a>\n",
    "## Data Collection and Wrangling\n",
    "\n",
    "Now it's time to collect and explore our data. In this project, we will focus on the record of individual trips taken in 2016 from our selected cities: New York City, Chicago, and Washington, DC. Each of these cities has a page where we can freely download the trip data.:\n",
    "\n",
    "- New York City (Citi Bike): [Link](https://www.citibikenyc.com/system-data)\n",
    "- Chicago (Divvy): [Link](https://www.divvybikes.com/system-data)\n",
    "- Washington, DC (Capital Bikeshare): [Link](https://www.capitalbikeshare.com/system-data)\n",
    "\n",
    "If we visit these pages, we will notice that each city has a different way of delivering its data. Chicago updates with new data twice a year, Washington DC is quarterly, and New York City is monthly. **However, you do not need to download the data yourself.** The data has already been collected for you in the `/data/` folder of the project files. While the original data for 2016 is spread among multiple files for each city, the files in the `/data/` folder collect all of the trip data for the year into one file per city. Some data wrangling of inconsistencies in timestamp format within each city has already been performed. In addition, a random 2% sample of the original data is taken to make the exploration more manageable. \n",
    "\n",
    "However, there is still a lot of data for us to investigate, so it's a good idea to start off by looking at one entry from each of the cities we're going to analyze."
   ]
  },
  {
   "cell_type": "code",
   "execution_count": 1,
   "metadata": {
    "collapsed": true
   },
   "outputs": [],
   "source": [
    "## import all necessary packages and functions.\n",
    "import csv # read and write csv files\n",
    "from datetime import datetime , date# operations to parse dates\n",
    "from pprint import pprint # use to print data structures like dictionaries in\n",
    "                          # a nicer way than the base print function."
   ]
  },
  {
   "cell_type": "code",
   "execution_count": 2,
   "metadata": {},
   "outputs": [
    {
     "name": "stdout",
     "output_type": "stream",
     "text": [
      "\n",
      "City: NYC\n",
      "OrderedDict([('tripduration', '839'),\n",
      "             ('starttime', '1/1/2016 00:09:55'),\n",
      "             ('stoptime', '1/1/2016 00:23:54'),\n",
      "             ('start station id', '532'),\n",
      "             ('start station name', 'S 5 Pl & S 4 St'),\n",
      "             ('start station latitude', '40.710451'),\n",
      "             ('start station longitude', '-73.960876'),\n",
      "             ('end station id', '401'),\n",
      "             ('end station name', 'Allen St & Rivington St'),\n",
      "             ('end station latitude', '40.72019576'),\n",
      "             ('end station longitude', '-73.98997825'),\n",
      "             ('bikeid', '17109'),\n",
      "             ('usertype', 'Customer'),\n",
      "             ('birth year', ''),\n",
      "             ('gender', '0')])\n",
      "\n",
      "City: Chicago\n",
      "OrderedDict([('trip_id', '9080545'),\n",
      "             ('starttime', '3/31/2016 23:30'),\n",
      "             ('stoptime', '3/31/2016 23:46'),\n",
      "             ('bikeid', '2295'),\n",
      "             ('tripduration', '926'),\n",
      "             ('from_station_id', '156'),\n",
      "             ('from_station_name', 'Clark St & Wellington Ave'),\n",
      "             ('to_station_id', '166'),\n",
      "             ('to_station_name', 'Ashland Ave & Wrightwood Ave'),\n",
      "             ('usertype', 'Subscriber'),\n",
      "             ('gender', 'Male'),\n",
      "             ('birthyear', '1990')])\n",
      "\n",
      "City: Washington\n",
      "OrderedDict([('Duration (ms)', '427387'),\n",
      "             ('Start date', '3/31/2016 22:57'),\n",
      "             ('End date', '3/31/2016 23:04'),\n",
      "             ('Start station number', '31602'),\n",
      "             ('Start station', 'Park Rd & Holmead Pl NW'),\n",
      "             ('End station number', '31207'),\n",
      "             ('End station', 'Georgia Ave and Fairmont St NW'),\n",
      "             ('Bike number', 'W20842'),\n",
      "             ('Member Type', 'Registered')])\n"
     ]
    }
   ],
   "source": [
    "def print_first_point(filename):\n",
    "    \"\"\"\n",
    "    This function prints and returns the first data point (second row) from\n",
    "    a csv file that includes a header row.\n",
    "    \"\"\"\n",
    "    # print city name for reference\n",
    "    city = filename.split('-')[0].split('/')[-1]\n",
    "    print('\\nCity: {}'.format(city))\n",
    "    \n",
    "    with open(filename, 'r') as f_in:\n",
    "        \n",
    "        ## see https://docs.python.org/3/library/csv.html           ##\n",
    "        trip_reader = csv.DictReader(f_in)\n",
    "        \n",
    "        \n",
    "        ## see https://docs.python.org/3/library/csv.html#reader-objects ##\n",
    "        first_trip = trip_reader.__next__()\n",
    "        \n",
    "        \n",
    "        ## see https://docs.python.org/3/library/pprint.html     ##\n",
    "        pprint(first_trip)\n",
    "   \n",
    "    # output city name and first trip for later testing\n",
    "    return (city, first_trip)\n",
    "\n",
    "# list of files for each city\n",
    "data_files = ['./data/NYC-CitiBike-2016.csv',\n",
    "              './data/Chicago-Divvy-2016.csv',\n",
    "              './data/Washington-CapitalBikeshare-2016.csv',]\n",
    "\n",
    "# print the first trip from each file, store in dictionary\n",
    "example_trips = {}\n",
    "for data_file in data_files:\n",
    "    city, first_trip = print_first_point(data_file)\n",
    "    example_trips[city] = first_trip"
   ]
  },
  {
   "cell_type": "markdown",
   "metadata": {},
   "source": [
    "If everything has been filled out correctly, we should see below the printout of each city name (which has been parsed from the data file name) that the first trip has been parsed in the form of a dictionary. When we set up a `DictReader` object, the first row of the data file is normally interpreted as column names. Every other row in the data file will use those column names as keys, as a dictionary is generated for each row.\n",
    "\n",
    "This will be useful since we can refer to quantities by an easily-understandable label instead of just a numeric index. For example, if we have a trip stored in the variable `row`, then we would rather get the trip duration from `row['duration']` instead of `row[0]`.\n",
    "\n",
    "<a id='condensing'></a>\n",
    "### Condensing the Trip Data\n",
    "\n",
    "It should also be observable from the above printout that each city provides different information. Even where the information is the same, the column names and formats are sometimes different. To make things as simple as possible when we get to the actual exploration, we should trim and clean the data. Cleaning the data makes sure that the data formats across the cities are consistent, while trimming focuses only on the parts of the data we are most interested in to make the exploration easier to work with.\n",
    "\n",
    "We will generate new data files with five values of interest for each trip: trip duration, starting month, starting hour, day of the week, and user type. Each of these may require additional wrangling depending on the city:\n",
    "\n",
    "- **Duration**: This has been given to us in seconds (New York, Chicago) or milliseconds (Washington). A more natural unit of analysis will be if all the trip durations are given in terms of minutes.\n",
    "- **Month**, **Hour**, **Day of Week**: Ridership volume is likely to change based on the season, time of day, and whether it is a weekday or weekend.We use the start time of the trip to obtain these values. The New York City data includes the seconds in their timestamps, while Washington and Chicago do not. The [`datetime`](https://docs.python.org/3/library/datetime.html) package will be very useful here to make the needed conversions.\n",
    "- **User Type**: It is possible that users who are subscribed to a bike-share system will have different patterns of use compared to users who only have temporary passes. Washington divides its users into two types: 'Registered' for users with annual, monthly, and other longer-term subscriptions, and 'Casual', for users with 24-hour, 3-day, and other short-term passes. The New York and Chicago data uses 'Subscriber' and 'Customer' for these groups, respectively. For consistency, we will convert the Washington labels to match the other two.\n",
    "\n",
    "\n",
    "Now its time to complete the helper functions in the code cells below to address each of the cleaning tasks described above."
   ]
  },
  {
   "cell_type": "code",
   "execution_count": 3,
   "metadata": {
    "collapsed": true
   },
   "outputs": [],
   "source": [
    "def duration_in_mins(datum, city):\n",
    "    \"\"\"\n",
    "    Takes as input a dictionary containing info about a single trip (datum) and\n",
    "    its origin city (city) and returns the trip duration in units of minutes.\n",
    "    \n",
    "    Remember that Washington is in terms of milliseconds while Chicago and NYC\n",
    "    are in terms of seconds. \n",
    "    \n",
    "    The csv module reads in all of the data as strings, including numeric\n",
    "    values. We will need a function to convert the strings into an appropriate\n",
    "    numeric type when making your transformations.\n",
    "    see https://docs.python.org/3/library/functions.html\n",
    "    \"\"\"\n",
    "    \n",
    "    \n",
    "    if city == 'Washington':\n",
    "        duration = float(datum['Duration (ms)']) / 60000\n",
    "    else:\n",
    "        duration = float(datum['tripduration']) / 60\n",
    "    return duration\n",
    "\n",
    "\n",
    "# Some tests to check that the code works. There should be no output if all of\n",
    "# the assertions pass. The `example_trips` dictionary was obtained from when\n",
    "# we printed the first trip from each of the original data files.\n",
    "tests = {'NYC': 13.9833,\n",
    "         'Chicago': 15.4333,\n",
    "         'Washington': 7.1231}\n",
    "\n",
    "for city in tests:\n",
    "    \n",
    "    assert abs(duration_in_mins(example_trips[city], city) - tests[city]) < .001"
   ]
  },
  {
   "cell_type": "code",
   "execution_count": 4,
   "metadata": {
    "collapsed": true
   },
   "outputs": [],
   "source": [
    "def time_of_trip(datum, city):\n",
    "    \"\"\"\n",
    "    Takes as input a dictionary containing info about a single trip (datum) and\n",
    "    its origin city (city) and returns the month, hour, and day of the week in\n",
    "    which the trip was made.\n",
    "    \n",
    "    Remember that NYC includes seconds, while Washington and Chicago do not.\n",
    "    \n",
    "    We should use the datetime module to parse the original date\n",
    "    strings into a format that is useful for extracting the desired information.\n",
    "    see https://docs.python.org/3/library/datetime.html#strftime-and-strptime-behavior\n",
    "    \"\"\"\n",
    "    #month/date/year hr:min\n",
    "    # m - month , d- day, Y- year, S- seconds, H - Hours, M - minutes\n",
    "    \n",
    "    if city == 'NYC':\n",
    "        a = datetime.strptime(datum['starttime'] , '%m/%d/%Y %H:%M:%S')\n",
    "        \n",
    "    elif city =='Chicago':\n",
    "        a = datetime.strptime(datum['starttime'], '%m/%d/%Y %H:%M')\n",
    "\n",
    "    else:\n",
    "        a = datetime.strptime(datum['Start date'], '%m/%d/%Y %H:%M')\n",
    "\n",
    "    month = a.month\n",
    "    hour = a.hour\n",
    "    day_of_week = a.strftime('%A')\n",
    "    return (month, hour, day_of_week)\n",
    "\n",
    "# Some tests to check that the code works. There should be no output if all of\n",
    "# the assertions pass. The `example_trips` dictionary was obtained from when\n",
    "# we printed the first trip from each of the original data files.\n",
    "tests = {'NYC': (1, 0, 'Friday'),\n",
    "         'Chicago': (3, 23, 'Thursday'),\n",
    "         'Washington': (3, 22, 'Thursday')}\n",
    "\n",
    "for city in tests:\n",
    "    \n",
    "    assert time_of_trip(example_trips[city], city) == tests[city]"
   ]
  },
  {
   "cell_type": "code",
   "execution_count": 5,
   "metadata": {
    "collapsed": true
   },
   "outputs": [],
   "source": [
    "def type_of_user(datum, city):\n",
    "    \"\"\"\n",
    "    Takes as input a dictionary containing info about a single trip (datum) and\n",
    "    its origin city (city) and returns the type of system user that made the\n",
    "    trip.\n",
    "    \n",
    "    Remember that Washington has different category names compared to Chicago\n",
    "    and NYC. \n",
    "    \"\"\"\n",
    "\n",
    "    if city == 'Washington':\n",
    "        ab = datum['Member Type']\n",
    "        if ab == 'Registered': \n",
    "            user_type = 'Subscriber'\n",
    "        elif ab == 'Casual':\n",
    "            user_type = 'Customer'\n",
    "    else:\n",
    "        user_type = datum['usertype']\n",
    "        \n",
    "    return user_type\n",
    "\n",
    "\n",
    "# Some tests to check that your code works. There should be no output if all of\n",
    "# the assertions pass. The `example_trips` dictionary was obtained from when\n",
    "# we printed the first trip from each of the original data files.\n",
    "tests = {'NYC': 'Customer',\n",
    "         'Chicago': 'Subscriber',\n",
    "         'Washington': 'Subscriber'}\n",
    "\n",
    "for city in tests:\n",
    "    assert type_of_user(example_trips[city], city) == tests[city]"
   ]
  },
  {
   "cell_type": "markdown",
   "metadata": {},
   "source": [
    "Now, using the helper functions we wrote above, we will create a condensed data file for each city consisting only of the data fields indicated above."
   ]
  },
  {
   "cell_type": "code",
   "execution_count": 6,
   "metadata": {
    "collapsed": true
   },
   "outputs": [],
   "source": [
    "def condense_data(in_file, out_file, city):\n",
    "    \"\"\"\n",
    "    This function takes full data from the specified input file\n",
    "    and writes the condensed data to a specified output file. The city\n",
    "    argument determines how the input file will be parsed.\n",
    "    \n",
    "    \"\"\"\n",
    "    \n",
    "    with open(out_file, 'w') as f_out, open(in_file, 'r') as f_in:\n",
    "        # set up csv DictWriter object - writer requires column names for the\n",
    "        # first row as the \"fieldnames\" argument\n",
    "        out_colnames = ['duration', 'month', 'hour', 'day_of_week', 'user_type']        \n",
    "        trip_writer = csv.DictWriter(f_out, fieldnames = out_colnames)\n",
    "        trip_writer.writeheader()\n",
    "        \n",
    "        \n",
    "        trip_reader = csv.DictReader(f_in)\n",
    "\n",
    "        # collect data from and process each row\n",
    "        for row in trip_reader:\n",
    "            # set up a dictionary to hold the values for the cleaned and trimmed\n",
    "            # data point\n",
    "            new_point = {}\n",
    "\n",
    "            ## using the helper functions to get the cleaned data from      ##\n",
    "            ## the original data dictionaries.                              ##\n",
    "            ## Note that the keys for the new_point dictionary should match ##\n",
    "            ## the column names set in the DictWriter object above.         ##\n",
    "            new_point['duration'] = duration_in_mins(row, city)\n",
    "            new_point['month'], new_point['hour'], new_point['day_of_week'] = time_of_trip(row, city)\n",
    "            new_point['user_type'] = type_of_user(row, city)\n",
    "            \n",
    "            ## Writing the processed information to the output file.         ##\n",
    "            ## see https://docs.python.org/3/library/csv.html#writer-objects ##\n",
    "            trip_writer.writerow(new_point)\n",
    "            \n",
    "            "
   ]
  },
  {
   "cell_type": "code",
   "execution_count": 7,
   "metadata": {},
   "outputs": [
    {
     "name": "stdout",
     "output_type": "stream",
     "text": [
      "\n",
      "City: Washington\n",
      "OrderedDict([('duration', '7.123116666666666'),\n",
      "             ('month', '3'),\n",
      "             ('hour', '22'),\n",
      "             ('day_of_week', 'Thursday'),\n",
      "             ('user_type', 'Subscriber')])\n",
      "\n",
      "City: Chicago\n",
      "OrderedDict([('duration', '15.433333333333334'),\n",
      "             ('month', '3'),\n",
      "             ('hour', '23'),\n",
      "             ('day_of_week', 'Thursday'),\n",
      "             ('user_type', 'Subscriber')])\n",
      "\n",
      "City: NYC\n",
      "OrderedDict([('duration', '13.983333333333333'),\n",
      "             ('month', '1'),\n",
      "             ('hour', '0'),\n",
      "             ('day_of_week', 'Friday'),\n",
      "             ('user_type', 'Customer')])\n"
     ]
    }
   ],
   "source": [
    "\n",
    "city_info = {'Washington': {'in_file': './data/Washington-CapitalBikeshare-2016.csv',\n",
    "                            'out_file': './data/Washington-2016-Summary.csv'},\n",
    "             'Chicago': {'in_file': './data/Chicago-Divvy-2016.csv',\n",
    "                         'out_file': './data/Chicago-2016-Summary.csv'},\n",
    "             'NYC': {'in_file': './data/NYC-CitiBike-2016.csv',\n",
    "                     'out_file': './data/NYC-2016-Summary.csv'}}\n",
    "\n",
    "for city, filenames in city_info.items():\n",
    "    condense_data(filenames['in_file'], filenames['out_file'], city)\n",
    "    print_first_point(filenames['out_file'])"
   ]
  },
  {
   "cell_type": "markdown",
   "metadata": {},
   "source": [
    "<a id='eda'></a>\n",
    "## Exploratory Data Analysis\n",
    "\n",
    "Now that we have the data collected and wrangled, we're ready to start exploring the data. In this section we will write some code to compute descriptive statistics from the data. We will also be introduced to the `matplotlib` library to create some basic histograms of the data.\n",
    "\n",
    "<a id='statistics'></a>\n",
    "### Statistics\n",
    "\n",
    "First, let's compute some basic counts. The first cell below contains a function that uses the csv module to iterate through a provided data file, returning the number of trips made by subscribers and customers.\n",
    "\n",
    "**Question 1a**: Which city has the highest number of trips? \n",
    "\n",
    "**Answer**: City with highest number of trips : NYC (276798)\n",
    "\n",
    "**Question 1b**: Which city has the highest proportion of trips made by subscribers? \n",
    "\n",
    "**Answer**: City with highest proportion of trips made by subscribers : NYC (88.83%)\n",
    "\n",
    "**Question 1c**: Which city has the highest proportion of trips made by short-term customers?\n",
    "\n",
    "**Answer**: city with highest proportion of trips made by customers : Chicago (23.78%)\n",
    " \n",
    "    "
   ]
  },
  {
   "cell_type": "code",
   "execution_count": 8,
   "metadata": {
    "collapsed": true
   },
   "outputs": [],
   "source": [
    "def number_of_trips(filename):\n",
    "    \"\"\"\n",
    "    This function reads in a file with trip data and reports the number of\n",
    "    trips made by subscribers, customers, and total overall.\n",
    "    \"\"\"\n",
    "    with open(filename, 'r') as f_in:\n",
    "        # set up csv reader object\n",
    "        reader = csv.DictReader(f_in)\n",
    "        \n",
    "        # initialize count variables\n",
    "        n_subscribers = 0\n",
    "        n_customers = 0\n",
    "        \n",
    "        # tally up ride types\n",
    "        for row in reader:\n",
    "            if row['user_type'] == 'Subscriber':\n",
    "                n_subscribers += 1\n",
    "            else:\n",
    "                n_customers += 1\n",
    "        \n",
    "        # compute total number of rides\n",
    "        n_total = n_subscribers + n_customers\n",
    "        \n",
    "        # return tallies as a tuple\n",
    "        return(n_subscribers, n_customers, n_total)"
   ]
  },
  {
   "cell_type": "code",
   "execution_count": 9,
   "metadata": {},
   "outputs": [
    {
     "name": "stdout",
     "output_type": "stream",
     "text": [
      "Chicago:  (54982, 17149, 72131)\n",
      "NYC:  (245896, 30902, 276798)\n",
      "Washington:  (51753, 14573, 66326)\n"
     ]
    }
   ],
   "source": [
    "data_file = './data/Chicago-2016-Summary.csv'\n",
    "print('Chicago: ',number_of_trips(data_file))\n",
    "data_file = './data/NYC-2016-Summary.csv'\n",
    "print('NYC: ',number_of_trips(data_file))\n",
    "data_file = './data/Washington-2016-Summary.csv'\n",
    "print('Washington: ',number_of_trips(data_file))"
   ]
  },
  {
   "cell_type": "markdown",
   "metadata": {},
   "source": [
    "**Question 2**: Bike-share systems are designed for riders to take short trips. Most of the time, users are allowed to take trips of 30 minutes or less with no additional charges, with overage charges made for trips of longer than that duration. What is the average trip length for each city? What proportion of rides made in each city are longer than 30 minutes?\n",
    "\n",
    "**Answer**: \n",
    "    1. The average trip length of Chicago :  16.563629368787335\n",
    "    2. The average trip length of NYC :  15.81259299802294\n",
    "    3. The average trip length of Washington :  18.93287355913721\n",
    "\n",
    "    1. Proportion of trips longer than 30 min in Chicago:  8.34731252859381 %\n",
    "    2. Proportion of trips longer than 30 min in NYC:  7.316888127804392 %\n",
    "    3. Proportion of trips longer than 30 min in Washington:  10.83888671109369 %"
   ]
  },
  {
   "cell_type": "code",
   "execution_count": 10,
   "metadata": {
    "collapsed": true,
    "scrolled": true
   },
   "outputs": [],
   "source": [
    "def convert_to_numeric(value):\n",
    "    '''This function convert strings to numeric value'''\n",
    "    return float(value)"
   ]
  },
  {
   "cell_type": "code",
   "execution_count": 11,
   "metadata": {
    "collapsed": true,
    "scrolled": true
   },
   "outputs": [],
   "source": [
    "def average_trip_length(filename):\n",
    "    '''This fuction is to calculate the avarage'''\n",
    "    with open(filename, 'r') as f_in:\n",
    "        # set up csv reader object\n",
    "        reader = csv.DictReader(f_in)\n",
    "        \n",
    "        row_count = 0 \n",
    "        sum = 0\n",
    "        \n",
    "        \n",
    "        for row in reader:\n",
    "            for value in row['duration'].split('\\n'):\n",
    "                \n",
    "                a = convert_to_numeric(value)\n",
    "                sum = sum + a\n",
    "                row_count = row_count + 1\n",
    "        \n",
    "    avarage = sum / row_count\n",
    "    return avarage"
   ]
  },
  {
   "cell_type": "code",
   "execution_count": 12,
   "metadata": {},
   "outputs": [
    {
     "name": "stdout",
     "output_type": "stream",
     "text": [
      "The average trip length of Chicago :  16.563629368787335\n",
      "The average trip length of NYC :  15.81259299802294\n",
      "The average trip length of Washington :  18.93287355913721\n"
     ]
    }
   ],
   "source": [
    "data_file = './data/Chicago-2016-Summary.csv'\n",
    "print('The average trip length of Chicago : ',average_trip_length(data_file))\n",
    "data_file = './data/NYC-2016-Summary.csv'\n",
    "print('The average trip length of NYC : ',average_trip_length(data_file))\n",
    "data_file = './data/Washington-2016-Summary.csv'\n",
    "print('The average trip length of Washington : ',average_trip_length(data_file))"
   ]
  },
  {
   "cell_type": "code",
   "execution_count": 13,
   "metadata": {
    "collapsed": true
   },
   "outputs": [],
   "source": [
    "def prop_of_length_more_30min(filename):\n",
    "    \n",
    "    '''This function is to calulate the proportion \n",
    "    of trips that are over 30 min in a city'''\n",
    "    \n",
    "    with open(filename, 'r') as f_in:\n",
    "        reader = csv.DictReader(f_in)\n",
    "        \n",
    "        row_count = 0\n",
    "        case_count = 0\n",
    "        \n",
    "        for row in reader:\n",
    "            for value in row['duration'].split('\\n'):\n",
    "                a = convert_to_numeric(value)\n",
    "                if a  >= 30.0:\n",
    "                    case_count += 1\n",
    "                row_count += 1\n",
    "    \n",
    "    proportion = (case_count/row_count)*100\n",
    "    \n",
    "    return proportion\n",
    "    "
   ]
  },
  {
   "cell_type": "code",
   "execution_count": 14,
   "metadata": {},
   "outputs": [
    {
     "name": "stdout",
     "output_type": "stream",
     "text": [
      "Proportion of trips longer than 30 min in Chicago:  8.34731252859381\n",
      "Proportion of trips longer than 30 min in NYC:  7.316888127804392\n",
      "Proportion of trips longer than 30 min in Washington:  10.83888671109369\n"
     ]
    }
   ],
   "source": [
    "data_file = './data/Chicago-2016-Summary.csv'\n",
    "print('Proportion of trips longer than 30 min in Chicago: ', prop_of_length_more_30min(data_file))\n",
    "data_file = './data/NYC-2016-Summary.csv'\n",
    "print('Proportion of trips longer than 30 min in NYC: ', prop_of_length_more_30min(data_file))\n",
    "data_file = './data/Washington-2016-Summary.csv'\n",
    "print('Proportion of trips longer than 30 min in Washington: ', prop_of_length_more_30min(data_file))"
   ]
  },
  {
   "cell_type": "markdown",
   "metadata": {},
   "source": [
    "**Question 3**: Digging deeper into the question of trip duration based on ridership. Choosing one city. Within that city, which type of user takes longer rides on average: Subscribers or Customers?\n",
    "\n",
    "**Answer**: \n",
    "    1. Chicago: (My case of study)\n",
    "        The avarage trip of Subscribers: 12.067201690250076\n",
    "        The average trip of customers: 30.979781133982506 \n",
    "        Type of users took longer rides: Customers\n",
    "        \n",
    "    2. NYC:  \n",
    "        The avarage trip of Subscribers: 13.680790523907177\n",
    "        The average trip of customers: 32.77595139473187 \n",
    "        Type of users took longer rides: Customers\n",
    "        \n",
    "    3. Washington:\n",
    "        The avarage trip of Subscribers: 12.528120499294745\n",
    "        The average trip of customers: 41.67803139252976\n",
    "        Type of users took longer rides: Customers\n",
    "        \n",
    " My case of study will be on **Chicago**, further answers will be answered based on **Chicago's** data."
   ]
  },
  {
   "cell_type": "code",
   "execution_count": 15,
   "metadata": {
    "collapsed": true
   },
   "outputs": [],
   "source": [
    "def avg_trips_sub_Vs_cus(filename):\n",
    "    '''This function finds the average trip made by Subscribers and Customers\n",
    "    and finds who made the longest in average'''\n",
    "    \n",
    "    with open(filename, 'r') as f_in:\n",
    "        reader = csv.DictReader(f_in)\n",
    "        \n",
    "        sub_count = 0\n",
    "        cus_count = 0\n",
    "        sub_sum = 0\n",
    "        cus_sum = 0\n",
    "        \n",
    "        for row in reader:\n",
    "            for value in row['duration'].split('\\n'):\n",
    "                a = convert_to_numeric(value)\n",
    "                if row['user_type'] == 'Subscriber':\n",
    "                    sub_sum += a\n",
    "                    sub_count += 1\n",
    "                else:\n",
    "                    cus_sum += a\n",
    "                    cus_count += 1\n",
    "                \n",
    "        avg_cus = cus_sum / cus_count\n",
    "        avg_sub = sub_sum / sub_count\n",
    "    \n",
    "    if(avg_cus > avg_sub):\n",
    "        Best = 'Customers'\n",
    "    else:\n",
    "        Best = 'Subscribers'\n",
    "        \n",
    "    return('The avarage trip of Subscribers:',avg_sub,\n",
    "           'The average trip of customers:', avg_cus,\n",
    "           'The '\n",
    "           'type of users took longer rides:', Best )\n"
   ]
  },
  {
   "cell_type": "code",
   "execution_count": 16,
   "metadata": {},
   "outputs": [
    {
     "name": "stdout",
     "output_type": "stream",
     "text": [
      "Chicago:  ('The avarage trip of Subscribers:', 12.067201690250076, 'The average trip of customers:', 30.979781133982506, 'The type of users took longer rides:', 'Customers')\n",
      "NYC:  ('The avarage trip of Subscribers:', 13.680790523907177, 'The average trip of customers:', 32.77595139473187, 'The type of users took longer rides:', 'Customers')\n",
      "Washington:  ('The avarage trip of Subscribers:', 12.528120499294745, 'The average trip of customers:', 41.67803139252976, 'The type of users took longer rides:', 'Customers')\n"
     ]
    }
   ],
   "source": [
    "data_file = './data/Chicago-2016-Summary.csv'\n",
    "print('Chicago: ', avg_trips_sub_Vs_cus(data_file))\n",
    "data_file = './data/NYC-2016-Summary.csv'\n",
    "print('NYC: ', avg_trips_sub_Vs_cus(data_file))\n",
    "data_file = './data/Washington-2016-Summary.csv'\n",
    "print('Washington: ', avg_trips_sub_Vs_cus(data_file))"
   ]
  },
  {
   "cell_type": "markdown",
   "metadata": {},
   "source": [
    "<a id='visualizations'></a>\n",
    "### Visualizations\n",
    "\n",
    "The last set of values that we computed has pulled up an interesting result. While the mean trip time for Subscribers is well under 30 minutes, the mean trip time for Customers is actually _above_ 30 minutes! It will be interesting for us to look at how the trip times are distributed."
   ]
  },
  {
   "cell_type": "markdown",
   "metadata": {},
   "source": [
    "**Question 4**:For each group (Subscribers and customers), where is the peak of each distribution? How would we describe the shape of each distribution?\n",
    "\n",
    "**Answer**: \n",
    "    \n",
    "   **Subscribers:**\n",
    "    * The graph is Right Skewed Distribution graph\n",
    "    * The Peak in Subscribers is in between 5 min to 10 minutes\n",
    "    \n",
    "   **Customers**\n",
    "    * The Graph is Right Skewed Distribution graph\n",
    "    * The peak in Customers is in between 20 to 25 minutes"
   ]
  },
  {
   "cell_type": "code",
   "execution_count": 17,
   "metadata": {},
   "outputs": [
    {
     "data": {
      "image/png": "[encoded data removed]",
      "text/plain": [
       "<matplotlib.figure.Figure at 0x870f6d8>"
      ]
     },
     "metadata": {},
     "output_type": "display_data"
    },
    {
     "data": {
      "image/png": "[encoded data removed]",
      "text/plain": [
       "<matplotlib.figure.Figure at 0x3aed438>"
      ]
     },
     "metadata": {},
     "output_type": "display_data"
    }
   ],
   "source": [
    "import matplotlib.pyplot as plt\n",
    "\n",
    "%matplotlib inline \n",
    "\n",
    "data_Subscriber = []\n",
    "data_Customer = []\n",
    "# to load values of duration of Chicago data to the list 'data'.\n",
    "with open('./data/Chicago-2016-Summary.csv', 'r') as f_in:\n",
    "        \n",
    "        reader = csv.DictReader(f_in)\n",
    "        \n",
    "        for row in reader:\n",
    "            for value in row['duration'].split('\\n'):\n",
    "                a = convert_to_numeric(value)\n",
    "                if row['user_type'] == 'Subscriber':\n",
    "                    data_Subscriber.append(a) #Adding values to the Subscriber list\n",
    "                else:\n",
    "                    data_Customer.append(a) #Adding values to Customer list\n",
    "                \n",
    "                \n",
    "plt.hist(data_Subscriber, range = [ 0, 75], bins=[0, 5, 10, 15, 20, 25, 30, 35, 40, 45, 50, 55, 60, 65, 70, 75])\n",
    "plt.title('Distribution of Trip Durations for Subscribers')\n",
    "plt.xlabel('Duration (m)')\n",
    "plt.show()\n",
    "\n",
    "plt.hist(data_Customer, range = [ 0, 75], bins=[0, 5, 10, 15, 20, 25, 30, 35, 40, 45, 50, 55, 60, 65, 70, 75])\n",
    "plt.title('Distribution of Trip Durations for Customers')\n",
    "plt.xlabel('Duration (m)')\n",
    "plt.show()"
   ]
  },
  {
   "cell_type": "markdown",
   "metadata": {
    "collapsed": true
   },
   "source": [
    "<a id='eda_continued'></a>\n",
    "## Performing more Analysis\n",
    "\n",
    "So far, we've performed an initial exploration into the data available. We have compared the relative volume of trips made between three U.S. cities and the ratio of trips made by Subscribers and Customers. For one of these cities, we have investigated differences between Subscribers and Customers in terms of how long a typical trip lasts.\n",
    "\n",
    "**Question 5**:During what time of day is the system used the most? Is there a difference in usage patterns for Subscribers and Customers?\n",
    "\n",
    "**Answer**: In Chicago city, During 17:00 to 17:59 hours, the system is used the most. There is lot of differences in usage patterns for Subcribers and customers. \n",
    "\n",
    "**Subcribers** graph shows some what **Double-peaked or bimodal type of distributions**, which mean subscribers choose to ride bikes a lot somewhere between 7 hours to 9 hours and a lot between 17 hours to 19 hours, remaining time, the bike rides are somewhat study, while between 0 hours to 6 hours, the intensity is too low  \n",
    "\n",
    "**Customers** graph tend to be **Left Skewed Distribution**, which means customers tend to use bycyles starting from 6 hour, gradually increasing and reach a peak in 15 hrs and slowly decrease in curve till 24 hrs.\n",
    "\n"
   ]
  },
  {
   "cell_type": "code",
   "execution_count": 18,
   "metadata": {
    "collapsed": true
   },
   "outputs": [],
   "source": [
    "from collections import Counter\n",
    "\n",
    "def time_of_day_most_used(filename):\n",
    "    '''This function finds the time in a day where the bycycles are most used'''\n",
    "    with open(filename, 'r') as f_in:\n",
    "        reader = csv.DictReader(f_in)\n",
    "        \n",
    "        hour_list = []\n",
    "        for row in reader:\n",
    "            for value in row['hour'].split('\\n'):\n",
    "                a = int(value)\n",
    "                hour_list.append(a)\n",
    "        \n",
    "    cnt = Counter(hour_list)\n",
    "    return (cnt.most_common(1)) #returns top 1 hour where riders took bike the most   \n"
   ]
  },
  {
   "cell_type": "code",
   "execution_count": 19,
   "metadata": {},
   "outputs": [
    {
     "name": "stdout",
     "output_type": "stream",
     "text": [
      "Chicago:  [(17, 8564)]\n"
     ]
    }
   ],
   "source": [
    "data_file = './data/Chicago-2016-Summary.csv'\n",
    "print('Chicago: ', time_of_day_most_used(data_file))"
   ]
  },
  {
   "cell_type": "code",
   "execution_count": 20,
   "metadata": {},
   "outputs": [
    {
     "data": {
      "image/png": "[encoded data removed]",
      "text/plain": [
       "<matplotlib.figure.Figure at 0x97352b0>"
      ]
     },
     "metadata": {},
     "output_type": "display_data"
    },
    {
     "data": {
      "image/png": "[encoded data removed]",
      "text/plain": [
       "<matplotlib.figure.Figure at 0x968eb70>"
      ]
     },
     "metadata": {},
     "output_type": "display_data"
    }
   ],
   "source": [
    "#import matplotlib.pyplot as plt\n",
    "\n",
    "#%matplotlib inline \n",
    "\n",
    "data_Subscriber = []\n",
    "data_Customer = []\n",
    "# to load values of duration of Chicago data to the list 'data'.\n",
    "with open('./data/Chicago-2016-Summary.csv', 'r') as f_in:\n",
    "        \n",
    "        reader = csv.DictReader(f_in)\n",
    "        \n",
    "        for row in reader:\n",
    "            for value in row['hour'].split('\\n'):\n",
    "                a = int(value)\n",
    "                if row['user_type'] == 'Subscriber':\n",
    "                    data_Subscriber.append(a) #Adding values to the Subscriber list\n",
    "                else:\n",
    "                    data_Customer.append(a) #Adding values to Customer list\n",
    "                \n",
    "                \n",
    "plt.hist(data_Subscriber, range = [ 0, 24], bins=[1, 2, 3, 4, 5, 6, 7, 8, 9, 10, 11, 12, 13, 14, 15, 16, 17, 18, 19, 20, 21, 22, 23, 24])\n",
    "plt.title('Usage (in perticular hour in a day) pattern of Subscribers')\n",
    "plt.xlabel('Hours (24-hour Format)')\n",
    "plt.show()\n",
    "\n",
    "plt.hist(data_Customer, range = [ 0, 24], bins=[1, 2, 3, 4, 5, 6, 7, 8, 9, 10, 11, 12, 13, 14, 15, 16, 17, 18, 19, 20, 21, 22, 23, 24])\n",
    "plt.title('Usage (in perticular hour in a day) pattern of Customers')\n",
    "plt.xlabel('Hours (24-hour Format)')\n",
    "plt.show()"
   ]
  }
 ],
 "metadata": {
  "anaconda-cloud": {},
  "kernelspec": {
   "display_name": "Python [default]",
   "language": "python",
   "name": "python3"
  },
  "language_info": {
   "codemirror_mode": {
    "name": "ipython",
    "version": 3
   },
   "file_extension": ".py",
   "mimetype": "text/x-python",
   "name": "python",
   "nbconvert_exporter": "python",
   "pygments_lexer": "ipython3",
   "version": "3.6.3"
  }
 },
 "nbformat": 4,
 "nbformat_minor": 1
}
